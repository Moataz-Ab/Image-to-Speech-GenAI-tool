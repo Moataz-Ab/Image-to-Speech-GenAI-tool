{
 "cells": [
  {
   "cell_type": "code",
   "execution_count": 2,
   "id": "c410ce42",
   "metadata": {},
   "outputs": [
    {
     "name": "stderr",
     "output_type": "stream",
     "text": [
      "2023-10-13 15:03:07.206267: E tensorflow/stream_executor/cuda/cuda_blas.cc:2981] Unable to register cuBLAS factory: Attempting to register factory for plugin cuBLAS when one has already been registered\n"
     ]
    }
   ],
   "source": [
    "import os\n",
    "from dotenv import load_dotenv\n",
    "from transformers import pipeline\n",
    "from langchain import OpenAI, PromptTemplate, LLMChain\n",
    "\n",
    "load_dotenv()\n",
    "HUGGINGFACE_KEY = os.getenv('HUGGINGFACE_TOKEN')\n",
    "OPENAI_KEY = os.getenv('OPENAI_TOKEN')"
   ]
  },
  {
   "cell_type": "markdown",
   "id": "cabf438d",
   "metadata": {},
   "source": [
    "# Image to Text"
   ]
  },
  {
   "cell_type": "code",
   "execution_count": 3,
   "id": "24ea7cba",
   "metadata": {},
   "outputs": [
    {
     "name": "stderr",
     "output_type": "stream",
     "text": [
      "All model checkpoint layers were used when initializing TFBlipForConditionalGeneration.\n",
      "\n",
      "All the layers of TFBlipForConditionalGeneration were initialized from the model checkpoint at Salesforce/blip-image-captioning-base.\n",
      "If your task is similar to the task the model of the checkpoint was trained on, you can already use TFBlipForConditionalGeneration for predictions without further training.\n"
     ]
    }
   ],
   "source": [
    "pipe = pipeline(\"image-to-text\", model=\"Salesforce/blip-image-captioning-base\")"
   ]
  },
  {
   "cell_type": "code",
   "execution_count": 4,
   "id": "4791770d",
   "metadata": {},
   "outputs": [
    {
     "name": "stderr",
     "output_type": "stream",
     "text": [
      "/home/moelinux/.pyenv/versions/3.10.6/envs/lewagon/lib/python3.10/site-packages/transformers/generation/tf_utils.py:838: UserWarning: Using the model-agnostic default `max_length` (=20) to control the generation length.  recommend setting `max_new_tokens` to control the maximum length of the generation.\n",
      "  warnings.warn(\n"
     ]
    },
    {
     "name": "stdout",
     "output_type": "stream",
     "text": [
      "WARNING:tensorflow:5 out of the last 5 calls to <function TFBlipTextModel.get_extended_attention_mask at 0x7f28303e5510> triggered tf.function retracing. Tracing is expensive and the excessive number of tracings could be due to (1) creating @tf.function repeatedly in a loop, (2) passing tensors with different shapes, (3) passing Python objects instead of tensors. For (1), please define your @tf.function outside of the loop. For (2), @tf.function has reduce_retracing=True option that can avoid unnecessary retracing. For (3), please refer to https://www.tensorflow.org/guide/function#controlling_retracing and https://www.tensorflow.org/api_docs/python/tf/function for  more details.\n",
      "WARNING:tensorflow:6 out of the last 6 calls to <function TFBlipTextModel.get_extended_attention_mask at 0x7f28303e5510> triggered tf.function retracing. Tracing is expensive and the excessive number of tracings could be due to (1) creating @tf.function repeatedly in a loop, (2) passing tensors with different shapes, (3) passing Python objects instead of tensors. For (1), please define your @tf.function outside of the loop. For (2), @tf.function has reduce_retracing=True option that can avoid unnecessary retracing. For (3), please refer to https://www.tensorflow.org/guide/function#controlling_retracing and https://www.tensorflow.org/api_docs/python/tf/function for  more details.\n"
     ]
    }
   ],
   "source": [
    "text = pipe('../img/test_image1.jpg')"
   ]
  },
  {
   "cell_type": "code",
   "execution_count": 5,
   "id": "d850cf16",
   "metadata": {},
   "outputs": [
    {
     "data": {
      "text/plain": [
       "'a group of people hiking through a forest'"
      ]
     },
     "execution_count": 5,
     "metadata": {},
     "output_type": "execute_result"
    }
   ],
   "source": [
    "text[0]['generated_text']"
   ]
  },
  {
   "cell_type": "markdown",
   "id": "7bc30d44",
   "metadata": {},
   "source": [
    "# LLM prompting"
   ]
  },
  {
   "cell_type": "code",
   "execution_count": 19,
   "id": "5b8829d3",
   "metadata": {},
   "outputs": [],
   "source": [
    "llm = OpenAI(openai_api_key=OPENAI_KEY, model='gpt-3.5-turbo-instruct-0914', temperature=1)"
   ]
  },
  {
   "cell_type": "code",
   "execution_count": 20,
   "id": "2c1a711e",
   "metadata": {},
   "outputs": [],
   "source": [
    "prompt = PromptTemplate(\n",
    "        input_variables = ['text'],\n",
    "        template = '''\n",
    "        You are a talented story teller who can create a story from a simple narrative./\n",
    "        Create a story using the following scenario; the story should have be maximum 25 words long.\n",
    "        context = {text}\n",
    "        '''\n",
    "        )"
   ]
  },
  {
   "cell_type": "code",
   "execution_count": 21,
   "id": "8401db17",
   "metadata": {},
   "outputs": [],
   "source": [
    "chain = LLMChain(llm=llm, prompt=prompt)"
   ]
  },
  {
   "cell_type": "code",
   "execution_count": 22,
   "id": "7b14cf62",
   "metadata": {},
   "outputs": [],
   "source": [
    "story = chain.predict(text=text)"
   ]
  },
  {
   "cell_type": "code",
   "execution_count": 23,
   "id": "09209648",
   "metadata": {},
   "outputs": [
    {
     "data": {
      "text/plain": [
       "'\\nA group of people hiking through a forest stumbled upon a deserted cabin filled with treasures and secrets, changing their journey forever.'"
      ]
     },
     "execution_count": 23,
     "metadata": {},
     "output_type": "execute_result"
    }
   ],
   "source": [
    "story"
   ]
  },
  {
   "cell_type": "code",
   "execution_count": null,
   "id": "9347907b",
   "metadata": {},
   "outputs": [],
   "source": []
  }
 ],
 "metadata": {
  "kernelspec": {
   "display_name": "Python 3 (ipykernel)",
   "language": "python",
   "name": "python3"
  },
  "language_info": {
   "codemirror_mode": {
    "name": "ipython",
    "version": 3
   },
   "file_extension": ".py",
   "mimetype": "text/x-python",
   "name": "python",
   "nbconvert_exporter": "python",
   "pygments_lexer": "ipython3",
   "version": "3.10.6"
  }
 },
 "nbformat": 4,
 "nbformat_minor": 5
}
